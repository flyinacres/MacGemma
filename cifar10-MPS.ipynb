{
 "cells": [
  {
   "cell_type": "markdown",
   "id": "4ae8306c-cc7d-4243-b76f-aea9c8b0020a",
   "metadata": {},
   "source": [
    "**Attempt to run the same benchmark I used on my PC on my Mac**"
   ]
  },
  {
   "cell_type": "code",
   "execution_count": 48,
   "id": "049fa9b2-9dd3-4a36-8532-487d6f70db8f",
   "metadata": {},
   "outputs": [
    {
     "name": "stdout",
     "output_type": "stream",
     "text": [
      "tensor([1.], device='mps:0')\n"
     ]
    }
   ],
   "source": [
    "import torch\n",
    "\n",
    "if torch.backends.mps.is_available():\n",
    "    mps_device = torch.device(\"mps\")\n",
    "    x = torch.ones(1, device = mps_device)\n",
    "    print(x)\n",
    "else:\n",
    "    print(\"MPS device not found\")"
   ]
  },
  {
   "cell_type": "code",
   "execution_count": null,
   "id": "658a9544-2f28-4a5c-bd88-1af4d0044cbb",
   "metadata": {},
   "outputs": [
    {
     "name": "stdout",
     "output_type": "stream",
     "text": [
      "Collecting fastai\n",
      "  Downloading fastai-2.7.14-py3-none-any.whl.metadata (9.1 kB)\n",
      "Requirement already satisfied: pip in ./anaconda3/envs/MacML/lib/python3.11/site-packages (from fastai) (24.0)\n",
      "Requirement already satisfied: packaging in ./anaconda3/envs/MacML/lib/python3.11/site-packages (from fastai) (23.2)\n",
      "Collecting fastdownload<2,>=0.0.5 (from fastai)\n",
      "  Downloading fastdownload-0.0.7-py3-none-any.whl.metadata (5.5 kB)\n",
      "Collecting fastcore<1.6,>=1.5.29 (from fastai)\n",
      "  Downloading fastcore-1.5.29-py3-none-any.whl.metadata (3.5 kB)\n",
      "Requirement already satisfied: torchvision>=0.11 in ./anaconda3/envs/MacML/lib/python3.11/site-packages (from fastai) (0.15.2a0)\n",
      "Requirement already satisfied: matplotlib in ./anaconda3/envs/MacML/lib/python3.11/site-packages (from fastai) (3.8.0)\n",
      "Requirement already satisfied: pandas in ./anaconda3/envs/MacML/lib/python3.11/site-packages (from fastai) (2.2.1)\n",
      "Requirement already satisfied: requests in ./anaconda3/envs/MacML/lib/python3.11/site-packages (from fastai) (2.31.0)\n",
      "Requirement already satisfied: pyyaml in ./anaconda3/envs/MacML/lib/python3.11/site-packages (from fastai) (6.0.1)\n",
      "Collecting fastprogress>=0.2.4 (from fastai)\n",
      "  Downloading fastprogress-1.0.3-py3-none-any.whl.metadata (5.6 kB)\n",
      "Requirement already satisfied: pillow>=9.0.0 in ./anaconda3/envs/MacML/lib/python3.11/site-packages (from fastai) (10.2.0)\n",
      "Requirement already satisfied: scikit-learn in ./anaconda3/envs/MacML/lib/python3.11/site-packages (from fastai) (1.2.2)\n",
      "Requirement already satisfied: scipy in ./anaconda3/envs/MacML/lib/python3.11/site-packages (from fastai) (1.12.0)\n",
      "Collecting spacy<4 (from fastai)\n",
      "  Downloading spacy-3.7.4-cp311-cp311-macosx_11_0_arm64.whl.metadata (27 kB)\n",
      "Collecting torch<2.3,>=1.10 (from fastai)\n",
      "  Downloading torch-2.2.2-cp311-none-macosx_11_0_arm64.whl.metadata (25 kB)\n",
      "Collecting spacy-legacy<3.1.0,>=3.0.11 (from spacy<4->fastai)\n",
      "  Downloading spacy_legacy-3.0.12-py2.py3-none-any.whl.metadata (2.8 kB)\n",
      "Collecting spacy-loggers<2.0.0,>=1.0.0 (from spacy<4->fastai)\n",
      "  Downloading spacy_loggers-1.0.5-py3-none-any.whl.metadata (23 kB)\n",
      "Collecting murmurhash<1.1.0,>=0.28.0 (from spacy<4->fastai)\n",
      "  Downloading murmurhash-1.0.10-cp311-cp311-macosx_11_0_arm64.whl.metadata (2.0 kB)\n",
      "Collecting cymem<2.1.0,>=2.0.2 (from spacy<4->fastai)\n",
      "  Downloading cymem-2.0.8-cp311-cp311-macosx_11_0_arm64.whl.metadata (8.4 kB)\n",
      "Collecting preshed<3.1.0,>=3.0.2 (from spacy<4->fastai)\n",
      "  Downloading preshed-3.0.9-cp311-cp311-macosx_11_0_arm64.whl.metadata (2.2 kB)\n",
      "Collecting thinc<8.3.0,>=8.2.2 (from spacy<4->fastai)\n",
      "  Downloading thinc-8.2.3-cp311-cp311-macosx_11_0_arm64.whl.metadata (15 kB)\n",
      "Collecting wasabi<1.2.0,>=0.9.1 (from spacy<4->fastai)\n",
      "  Downloading wasabi-1.1.2-py3-none-any.whl.metadata (28 kB)\n",
      "Collecting srsly<3.0.0,>=2.4.3 (from spacy<4->fastai)\n",
      "  Downloading srsly-2.4.8-cp311-cp311-macosx_11_0_arm64.whl.metadata (20 kB)\n",
      "Collecting catalogue<2.1.0,>=2.0.6 (from spacy<4->fastai)\n",
      "  Downloading catalogue-2.0.10-py3-none-any.whl.metadata (14 kB)\n",
      "Collecting weasel<0.4.0,>=0.1.0 (from spacy<4->fastai)\n",
      "  Downloading weasel-0.3.4-py3-none-any.whl.metadata (4.7 kB)\n",
      "Collecting typer<0.10.0,>=0.3.0 (from spacy<4->fastai)\n",
      "  Downloading typer-0.9.4-py3-none-any.whl.metadata (14 kB)\n",
      "Collecting smart-open<7.0.0,>=5.2.1 (from spacy<4->fastai)\n",
      "  Downloading smart_open-6.4.0-py3-none-any.whl.metadata (21 kB)\n",
      "Requirement already satisfied: tqdm<5.0.0,>=4.38.0 in ./anaconda3/envs/MacML/lib/python3.11/site-packages (from spacy<4->fastai) (4.66.2)\n",
      "Requirement already satisfied: pydantic!=1.8,!=1.8.1,<3.0.0,>=1.7.4 in ./anaconda3/envs/MacML/lib/python3.11/site-packages (from spacy<4->fastai) (2.5.3)\n",
      "Requirement already satisfied: jinja2 in ./anaconda3/envs/MacML/lib/python3.11/site-packages (from spacy<4->fastai) (3.1.3)\n",
      "Requirement already satisfied: setuptools in ./anaconda3/envs/MacML/lib/python3.11/site-packages (from spacy<4->fastai) (68.2.2)\n",
      "Collecting langcodes<4.0.0,>=3.2.0 (from spacy<4->fastai)\n",
      "  Downloading langcodes-3.3.0-py3-none-any.whl.metadata (29 kB)\n",
      "Requirement already satisfied: numpy>=1.19.0 in ./anaconda3/envs/MacML/lib/python3.11/site-packages (from spacy<4->fastai) (1.26.4)\n",
      "Requirement already satisfied: charset-normalizer<4,>=2 in ./anaconda3/envs/MacML/lib/python3.11/site-packages (from requests->fastai) (2.0.4)\n",
      "Requirement already satisfied: idna<4,>=2.5 in ./anaconda3/envs/MacML/lib/python3.11/site-packages (from requests->fastai) (3.4)\n",
      "Requirement already satisfied: urllib3<3,>=1.21.1 in ./anaconda3/envs/MacML/lib/python3.11/site-packages (from requests->fastai) (2.1.0)\n",
      "Requirement already satisfied: certifi>=2017.4.17 in ./anaconda3/envs/MacML/lib/python3.11/site-packages (from requests->fastai) (2024.2.2)\n",
      "Requirement already satisfied: filelock in ./anaconda3/envs/MacML/lib/python3.11/site-packages (from torch<2.3,>=1.10->fastai) (3.13.1)\n",
      "Requirement already satisfied: typing-extensions>=4.8.0 in ./anaconda3/envs/MacML/lib/python3.11/site-packages (from torch<2.3,>=1.10->fastai) (4.9.0)\n",
      "Requirement already satisfied: sympy in ./anaconda3/envs/MacML/lib/python3.11/site-packages (from torch<2.3,>=1.10->fastai) (1.12)\n",
      "Requirement already satisfied: networkx in ./anaconda3/envs/MacML/lib/python3.11/site-packages (from torch<2.3,>=1.10->fastai) (3.1)\n",
      "Collecting fsspec (from torch<2.3,>=1.10->fastai)\n",
      "  Downloading fsspec-2024.3.1-py3-none-any.whl.metadata (6.8 kB)\n",
      "Requirement already satisfied: contourpy>=1.0.1 in ./anaconda3/envs/MacML/lib/python3.11/site-packages (from matplotlib->fastai) (1.2.0)\n",
      "Requirement already satisfied: cycler>=0.10 in ./anaconda3/envs/MacML/lib/python3.11/site-packages (from matplotlib->fastai) (0.11.0)\n",
      "Requirement already satisfied: fonttools>=4.22.0 in ./anaconda3/envs/MacML/lib/python3.11/site-packages (from matplotlib->fastai) (4.25.0)\n",
      "Requirement already satisfied: kiwisolver>=1.0.1 in ./anaconda3/envs/MacML/lib/python3.11/site-packages (from matplotlib->fastai) (1.4.4)\n",
      "Requirement already satisfied: pyparsing>=2.3.1 in ./anaconda3/envs/MacML/lib/python3.11/site-packages (from matplotlib->fastai) (3.0.9)\n",
      "Requirement already satisfied: python-dateutil>=2.7 in ./anaconda3/envs/MacML/lib/python3.11/site-packages (from matplotlib->fastai) (2.8.2)\n",
      "Requirement already satisfied: pytz>=2020.1 in ./anaconda3/envs/MacML/lib/python3.11/site-packages (from pandas->fastai) (2023.3.post1)\n",
      "Requirement already satisfied: tzdata>=2022.7 in ./anaconda3/envs/MacML/lib/python3.11/site-packages (from pandas->fastai) (2023.3)\n",
      "Requirement already satisfied: joblib>=1.1.1 in ./anaconda3/envs/MacML/lib/python3.11/site-packages (from scikit-learn->fastai) (1.2.0)\n",
      "Requirement already satisfied: threadpoolctl>=2.0.0 in ./anaconda3/envs/MacML/lib/python3.11/site-packages (from scikit-learn->fastai) (2.2.0)\n",
      "Requirement already satisfied: annotated-types>=0.4.0 in ./anaconda3/envs/MacML/lib/python3.11/site-packages (from pydantic!=1.8,!=1.8.1,<3.0.0,>=1.7.4->spacy<4->fastai) (0.6.0)\n",
      "Requirement already satisfied: pydantic-core==2.14.6 in ./anaconda3/envs/MacML/lib/python3.11/site-packages (from pydantic!=1.8,!=1.8.1,<3.0.0,>=1.7.4->spacy<4->fastai) (2.14.6)\n",
      "Requirement already satisfied: six>=1.5 in ./anaconda3/envs/MacML/lib/python3.11/site-packages (from python-dateutil>=2.7->matplotlib->fastai) (1.16.0)\n",
      "Collecting blis<0.8.0,>=0.7.8 (from thinc<8.3.0,>=8.2.2->spacy<4->fastai)\n",
      "  Downloading blis-0.7.11-cp311-cp311-macosx_11_0_arm64.whl.metadata (7.4 kB)\n",
      "Collecting confection<1.0.0,>=0.0.1 (from thinc<8.3.0,>=8.2.2->spacy<4->fastai)\n",
      "  Downloading confection-0.1.4-py3-none-any.whl.metadata (19 kB)\n",
      "Collecting click<9.0.0,>=7.1.1 (from typer<0.10.0,>=0.3.0->spacy<4->fastai)\n",
      "  Downloading click-8.1.7-py3-none-any.whl.metadata (3.0 kB)\n",
      "Collecting cloudpathlib<0.17.0,>=0.7.0 (from weasel<0.4.0,>=0.1.0->spacy<4->fastai)\n",
      "  Downloading cloudpathlib-0.16.0-py3-none-any.whl.metadata (14 kB)\n",
      "Requirement already satisfied: MarkupSafe>=2.0 in ./anaconda3/envs/MacML/lib/python3.11/site-packages (from jinja2->spacy<4->fastai) (2.1.3)\n",
      "Requirement already satisfied: mpmath>=0.19 in ./anaconda3/envs/MacML/lib/python3.11/site-packages (from sympy->torch<2.3,>=1.10->fastai) (1.3.0)\n",
      "Downloading fastai-2.7.14-py3-none-any.whl (232 kB)\n",
      "\u001b[2K   \u001b[90m━━━━━━━━━━━━━━━━━━━━━━━━━━━━━━━━━━━━━━━━\u001b[0m \u001b[32m232.2/232.2 kB\u001b[0m \u001b[31m5.1 MB/s\u001b[0m eta \u001b[36m0:00:00\u001b[0ma \u001b[36m0:00:01\u001b[0m\n",
      "\u001b[?25hDownloading fastcore-1.5.29-py3-none-any.whl (67 kB)\n",
      "\u001b[2K   \u001b[90m━━━━━━━━━━━━━━━━━━━━━━━━━━━━━━━━━━━━━━━━\u001b[0m \u001b[32m67.6/67.6 kB\u001b[0m \u001b[31m4.0 MB/s\u001b[0m eta \u001b[36m0:00:00\u001b[0m\n",
      "\u001b[?25hDownloading fastdownload-0.0.7-py3-none-any.whl (12 kB)\n",
      "Downloading fastprogress-1.0.3-py3-none-any.whl (12 kB)\n",
      "Downloading spacy-3.7.4-cp311-cp311-macosx_11_0_arm64.whl (6.5 MB)\n",
      "\u001b[2K   \u001b[90m━━━━━━━━━━━━━━━━━━━━━━━━━━━━━━━━━━━━━━━━\u001b[0m \u001b[32m6.5/6.5 MB\u001b[0m \u001b[31m7.1 MB/s\u001b[0m eta \u001b[36m0:00:00\u001b[0ma \u001b[36m0:00:01\u001b[0mm\n",
      "\u001b[?25hDownloading torch-2.2.2-cp311-none-macosx_11_0_arm64.whl (59.7 MB)\n",
      "\u001b[2K   \u001b[91m━━━━━━━━━━━━━━━━━━━━━━━━━━━━━━\u001b[0m\u001b[90m╺\u001b[0m\u001b[90m━━━━━━━━━\u001b[0m \u001b[32m45.5/59.7 MB\u001b[0m \u001b[31m4.5 MB/s\u001b[0m eta \u001b[36m0:00:04\u001b[0m"
     ]
    }
   ],
   "source": [
    "# installing/upgrading fastai2 \n",
    "!pip install --upgrade fastai"
   ]
  },
  {
   "cell_type": "code",
   "execution_count": null,
   "id": "d20ff7eb-bb7f-4069-8e13-89eead2822a3",
   "metadata": {},
   "outputs": [],
   "source": [
    "%matplotlib inline\n",
    "from fastai import *\n",
    "from fastai.vision import *\n",
    "from fastai.vision.all import *\n",
    "\n",
    "torch.backends.cudnn.benchmark = True"
   ]
  },
  {
   "cell_type": "code",
   "execution_count": null,
   "id": "c1672fd3-4c11-468f-aea8-0e457f981ec2",
   "metadata": {},
   "outputs": [],
   "source": [
    "# Test to ensure that my cuda is still visible\n",
    "import torch as torch\n",
    "torch.cuda.is_available()"
   ]
  }
 ],
 "metadata": {
  "kernelspec": {
   "display_name": "Python 3 (ipykernel)",
   "language": "python",
   "name": "python3"
  },
  "language_info": {
   "codemirror_mode": {
    "name": "ipython",
    "version": 3
   },
   "file_extension": ".py",
   "mimetype": "text/x-python",
   "name": "python",
   "nbconvert_exporter": "python",
   "pygments_lexer": "ipython3",
   "version": "3.11.8"
  }
 },
 "nbformat": 4,
 "nbformat_minor": 5
}
