{
 "cells": [
  {
   "cell_type": "markdown",
   "id": "4ae8306c-cc7d-4243-b76f-aea9c8b0020a",
   "metadata": {},
   "source": [
    "**Attempt to run the same benchmark I used on my PC on my Mac**"
   ]
  },
  {
   "cell_type": "code",
   "execution_count": 1,
   "id": "b2653df1-1b88-4f80-879d-4e381a066491",
   "metadata": {},
   "outputs": [],
   "source": [
    "import torch"
   ]
  },
  {
   "cell_type": "code",
   "execution_count": null,
   "id": "049fa9b2-9dd3-4a36-8532-487d6f70db8f",
   "metadata": {},
   "outputs": [],
   "source": [
    "\n",
    "\n",
    "if torch.backends.mps.is_available():\n",
    "    mps_device = torch.device(\"mps\")\n",
    "    x = torch.ones(1, device = mps_device)\n",
    "    print(x)\n",
    "else:\n",
    "    print(\"MPS device not found\")"
   ]
  },
  {
   "cell_type": "code",
   "execution_count": 2,
   "id": "658a9544-2f28-4a5c-bd88-1af4d0044cbb",
   "metadata": {},
   "outputs": [
    {
     "name": "stdout",
     "output_type": "stream",
     "text": [
      "Requirement already satisfied: fastai in ./anaconda3/envs/MacML/lib/python3.11/site-packages (2.7.14)\n",
      "Requirement already satisfied: pip in ./anaconda3/envs/MacML/lib/python3.11/site-packages (from fastai) (24.0)\n",
      "Requirement already satisfied: packaging in ./anaconda3/envs/MacML/lib/python3.11/site-packages (from fastai) (23.2)\n",
      "Requirement already satisfied: fastdownload<2,>=0.0.5 in ./anaconda3/envs/MacML/lib/python3.11/site-packages (from fastai) (0.0.7)\n",
      "Requirement already satisfied: fastcore<1.6,>=1.5.29 in ./anaconda3/envs/MacML/lib/python3.11/site-packages (from fastai) (1.5.29)\n",
      "Requirement already satisfied: torchvision>=0.11 in ./anaconda3/envs/MacML/lib/python3.11/site-packages (from fastai) (0.15.2a0)\n",
      "Requirement already satisfied: matplotlib in ./anaconda3/envs/MacML/lib/python3.11/site-packages (from fastai) (3.8.0)\n",
      "Requirement already satisfied: pandas in ./anaconda3/envs/MacML/lib/python3.11/site-packages (from fastai) (2.2.1)\n",
      "Requirement already satisfied: requests in ./anaconda3/envs/MacML/lib/python3.11/site-packages (from fastai) (2.31.0)\n",
      "Requirement already satisfied: pyyaml in ./anaconda3/envs/MacML/lib/python3.11/site-packages (from fastai) (6.0.1)\n",
      "Requirement already satisfied: fastprogress>=0.2.4 in ./anaconda3/envs/MacML/lib/python3.11/site-packages (from fastai) (1.0.3)\n",
      "Requirement already satisfied: pillow>=9.0.0 in ./anaconda3/envs/MacML/lib/python3.11/site-packages (from fastai) (10.2.0)\n",
      "Requirement already satisfied: scikit-learn in ./anaconda3/envs/MacML/lib/python3.11/site-packages (from fastai) (1.2.2)\n",
      "Requirement already satisfied: scipy in ./anaconda3/envs/MacML/lib/python3.11/site-packages (from fastai) (1.12.0)\n",
      "Requirement already satisfied: spacy<4 in ./anaconda3/envs/MacML/lib/python3.11/site-packages (from fastai) (3.7.4)\n",
      "Requirement already satisfied: torch<2.3,>=1.10 in ./anaconda3/envs/MacML/lib/python3.11/site-packages (from fastai) (2.2.2)\n",
      "Requirement already satisfied: spacy-legacy<3.1.0,>=3.0.11 in ./anaconda3/envs/MacML/lib/python3.11/site-packages (from spacy<4->fastai) (3.0.12)\n",
      "Requirement already satisfied: spacy-loggers<2.0.0,>=1.0.0 in ./anaconda3/envs/MacML/lib/python3.11/site-packages (from spacy<4->fastai) (1.0.5)\n",
      "Requirement already satisfied: murmurhash<1.1.0,>=0.28.0 in ./anaconda3/envs/MacML/lib/python3.11/site-packages (from spacy<4->fastai) (1.0.10)\n",
      "Requirement already satisfied: cymem<2.1.0,>=2.0.2 in ./anaconda3/envs/MacML/lib/python3.11/site-packages (from spacy<4->fastai) (2.0.8)\n",
      "Requirement already satisfied: preshed<3.1.0,>=3.0.2 in ./anaconda3/envs/MacML/lib/python3.11/site-packages (from spacy<4->fastai) (3.0.9)\n",
      "Requirement already satisfied: thinc<8.3.0,>=8.2.2 in ./anaconda3/envs/MacML/lib/python3.11/site-packages (from spacy<4->fastai) (8.2.3)\n",
      "Requirement already satisfied: wasabi<1.2.0,>=0.9.1 in ./anaconda3/envs/MacML/lib/python3.11/site-packages (from spacy<4->fastai) (1.1.2)\n",
      "Requirement already satisfied: srsly<3.0.0,>=2.4.3 in ./anaconda3/envs/MacML/lib/python3.11/site-packages (from spacy<4->fastai) (2.4.8)\n",
      "Requirement already satisfied: catalogue<2.1.0,>=2.0.6 in ./anaconda3/envs/MacML/lib/python3.11/site-packages (from spacy<4->fastai) (2.0.10)\n",
      "Requirement already satisfied: weasel<0.4.0,>=0.1.0 in ./anaconda3/envs/MacML/lib/python3.11/site-packages (from spacy<4->fastai) (0.3.4)\n",
      "Requirement already satisfied: typer<0.10.0,>=0.3.0 in ./anaconda3/envs/MacML/lib/python3.11/site-packages (from spacy<4->fastai) (0.9.4)\n",
      "Requirement already satisfied: smart-open<7.0.0,>=5.2.1 in ./anaconda3/envs/MacML/lib/python3.11/site-packages (from spacy<4->fastai) (6.4.0)\n",
      "Requirement already satisfied: tqdm<5.0.0,>=4.38.0 in ./anaconda3/envs/MacML/lib/python3.11/site-packages (from spacy<4->fastai) (4.66.2)\n",
      "Requirement already satisfied: pydantic!=1.8,!=1.8.1,<3.0.0,>=1.7.4 in ./anaconda3/envs/MacML/lib/python3.11/site-packages (from spacy<4->fastai) (2.5.3)\n",
      "Requirement already satisfied: jinja2 in ./anaconda3/envs/MacML/lib/python3.11/site-packages (from spacy<4->fastai) (3.1.3)\n",
      "Requirement already satisfied: setuptools in ./anaconda3/envs/MacML/lib/python3.11/site-packages (from spacy<4->fastai) (68.2.2)\n",
      "Requirement already satisfied: langcodes<4.0.0,>=3.2.0 in ./anaconda3/envs/MacML/lib/python3.11/site-packages (from spacy<4->fastai) (3.3.0)\n",
      "Requirement already satisfied: numpy>=1.19.0 in ./anaconda3/envs/MacML/lib/python3.11/site-packages (from spacy<4->fastai) (1.26.4)\n",
      "Requirement already satisfied: charset-normalizer<4,>=2 in ./anaconda3/envs/MacML/lib/python3.11/site-packages (from requests->fastai) (2.0.4)\n",
      "Requirement already satisfied: idna<4,>=2.5 in ./anaconda3/envs/MacML/lib/python3.11/site-packages (from requests->fastai) (3.4)\n",
      "Requirement already satisfied: urllib3<3,>=1.21.1 in ./anaconda3/envs/MacML/lib/python3.11/site-packages (from requests->fastai) (2.1.0)\n",
      "Requirement already satisfied: certifi>=2017.4.17 in ./anaconda3/envs/MacML/lib/python3.11/site-packages (from requests->fastai) (2024.2.2)\n",
      "Requirement already satisfied: filelock in ./anaconda3/envs/MacML/lib/python3.11/site-packages (from torch<2.3,>=1.10->fastai) (3.13.1)\n",
      "Requirement already satisfied: typing-extensions>=4.8.0 in ./anaconda3/envs/MacML/lib/python3.11/site-packages (from torch<2.3,>=1.10->fastai) (4.9.0)\n",
      "Requirement already satisfied: sympy in ./anaconda3/envs/MacML/lib/python3.11/site-packages (from torch<2.3,>=1.10->fastai) (1.12)\n",
      "Requirement already satisfied: networkx in ./anaconda3/envs/MacML/lib/python3.11/site-packages (from torch<2.3,>=1.10->fastai) (3.1)\n",
      "Requirement already satisfied: fsspec in ./anaconda3/envs/MacML/lib/python3.11/site-packages (from torch<2.3,>=1.10->fastai) (2024.3.1)\n",
      "Requirement already satisfied: contourpy>=1.0.1 in ./anaconda3/envs/MacML/lib/python3.11/site-packages (from matplotlib->fastai) (1.2.0)\n",
      "Requirement already satisfied: cycler>=0.10 in ./anaconda3/envs/MacML/lib/python3.11/site-packages (from matplotlib->fastai) (0.11.0)\n",
      "Requirement already satisfied: fonttools>=4.22.0 in ./anaconda3/envs/MacML/lib/python3.11/site-packages (from matplotlib->fastai) (4.25.0)\n",
      "Requirement already satisfied: kiwisolver>=1.0.1 in ./anaconda3/envs/MacML/lib/python3.11/site-packages (from matplotlib->fastai) (1.4.4)\n",
      "Requirement already satisfied: pyparsing>=2.3.1 in ./anaconda3/envs/MacML/lib/python3.11/site-packages (from matplotlib->fastai) (3.0.9)\n",
      "Requirement already satisfied: python-dateutil>=2.7 in ./anaconda3/envs/MacML/lib/python3.11/site-packages (from matplotlib->fastai) (2.8.2)\n",
      "Requirement already satisfied: pytz>=2020.1 in ./anaconda3/envs/MacML/lib/python3.11/site-packages (from pandas->fastai) (2023.3.post1)\n",
      "Requirement already satisfied: tzdata>=2022.7 in ./anaconda3/envs/MacML/lib/python3.11/site-packages (from pandas->fastai) (2023.3)\n",
      "Requirement already satisfied: joblib>=1.1.1 in ./anaconda3/envs/MacML/lib/python3.11/site-packages (from scikit-learn->fastai) (1.2.0)\n",
      "Requirement already satisfied: threadpoolctl>=2.0.0 in ./anaconda3/envs/MacML/lib/python3.11/site-packages (from scikit-learn->fastai) (2.2.0)\n",
      "Requirement already satisfied: annotated-types>=0.4.0 in ./anaconda3/envs/MacML/lib/python3.11/site-packages (from pydantic!=1.8,!=1.8.1,<3.0.0,>=1.7.4->spacy<4->fastai) (0.6.0)\n",
      "Requirement already satisfied: pydantic-core==2.14.6 in ./anaconda3/envs/MacML/lib/python3.11/site-packages (from pydantic!=1.8,!=1.8.1,<3.0.0,>=1.7.4->spacy<4->fastai) (2.14.6)\n",
      "Requirement already satisfied: six>=1.5 in ./anaconda3/envs/MacML/lib/python3.11/site-packages (from python-dateutil>=2.7->matplotlib->fastai) (1.16.0)\n",
      "Requirement already satisfied: blis<0.8.0,>=0.7.8 in ./anaconda3/envs/MacML/lib/python3.11/site-packages (from thinc<8.3.0,>=8.2.2->spacy<4->fastai) (0.7.11)\n",
      "Requirement already satisfied: confection<1.0.0,>=0.0.1 in ./anaconda3/envs/MacML/lib/python3.11/site-packages (from thinc<8.3.0,>=8.2.2->spacy<4->fastai) (0.1.4)\n",
      "Requirement already satisfied: click<9.0.0,>=7.1.1 in ./anaconda3/envs/MacML/lib/python3.11/site-packages (from typer<0.10.0,>=0.3.0->spacy<4->fastai) (8.1.7)\n",
      "Requirement already satisfied: cloudpathlib<0.17.0,>=0.7.0 in ./anaconda3/envs/MacML/lib/python3.11/site-packages (from weasel<0.4.0,>=0.1.0->spacy<4->fastai) (0.16.0)\n",
      "Requirement already satisfied: MarkupSafe>=2.0 in ./anaconda3/envs/MacML/lib/python3.11/site-packages (from jinja2->spacy<4->fastai) (2.1.3)\n",
      "Requirement already satisfied: mpmath>=0.19 in ./anaconda3/envs/MacML/lib/python3.11/site-packages (from sympy->torch<2.3,>=1.10->fastai) (1.3.0)\n"
     ]
    }
   ],
   "source": [
    "# installing/upgrading fastai2 \n",
    "!pip install --upgrade fastai"
   ]
  },
  {
   "cell_type": "code",
   "execution_count": 3,
   "id": "d20ff7eb-bb7f-4069-8e13-89eead2822a3",
   "metadata": {},
   "outputs": [
    {
     "name": "stderr",
     "output_type": "stream",
     "text": [
      "/Users/rff/anaconda3/envs/MacML/lib/python3.11/site-packages/torchvision/io/image.py:13: UserWarning: Failed to load image Python extension: 'dlopen(/Users/rff/anaconda3/envs/MacML/lib/python3.11/site-packages/torchvision/image.so, 0x0006): Symbol not found: __ZN3c1017RegisterOperatorsD1Ev\n",
      "  Referenced from: <CFED5F8E-EC3F-36FD-AAA3-2C6C7F8D3DD9> /Users/rff/anaconda3/envs/MacML/lib/python3.11/site-packages/torchvision/image.so\n",
      "  Expected in:     <F8622D92-25A9-3A61-A089-C917FDA36C1B> /Users/rff/anaconda3/envs/MacML/lib/python3.11/site-packages/torch/lib/libtorch_cpu.dylib'If you don't plan on using image functionality from `torchvision.io`, you can ignore this warning. Otherwise, there might be something wrong with your environment. Did you have `libjpeg` or `libpng` installed before building `torchvision` from source?\n",
      "  warn(\n"
     ]
    }
   ],
   "source": [
    "%matplotlib inline\n",
    "from fastai import *\n",
    "from fastai.vision import *\n",
    "from fastai.vision.all import *\n",
    "\n",
    "torch.backends.cudnn.benchmark = True"
   ]
  },
  {
   "cell_type": "code",
   "execution_count": 4,
   "id": "c1672fd3-4c11-468f-aea8-0e457f981ec2",
   "metadata": {},
   "outputs": [
    {
     "data": {
      "text/plain": [
       "False"
      ]
     },
     "execution_count": 4,
     "metadata": {},
     "output_type": "execute_result"
    }
   ],
   "source": [
    "# Test to ensure that my cuda is still visible\n",
    "import torch as torch\n",
    "torch.cuda.is_available()"
   ]
  },
  {
   "cell_type": "code",
   "execution_count": null,
   "id": "cc2eacbf-9e54-4f8f-8f3c-677c82aba468",
   "metadata": {},
   "outputs": [],
   "source": [
    "torch.device(\"mps\")\n",
    "default_device(-1)\n",
    "defaults.device = 'mps'\n",
    "# torch.cuda.device(0) to select the first GPU (and only GPU on my system)\n",
    "#torch.cuda.current_device()"
   ]
  },
  {
   "cell_type": "code",
   "execution_count": 5,
   "id": "e546a89c-a169-4261-8e33-5c90327423ae",
   "metadata": {},
   "outputs": [],
   "source": [
    "cpu = torch.device(\"cpu\")\n"
   ]
  },
  {
   "cell_type": "code",
   "execution_count": 6,
   "id": "bbf0e7be-25c3-4f33-8abf-3c6f73642051",
   "metadata": {},
   "outputs": [
    {
     "data": {
      "text/plain": [
       "Path('/Users/rff/.fastai/data/cifar10')"
      ]
     },
     "execution_count": 6,
     "metadata": {},
     "output_type": "execute_result"
    }
   ],
   "source": [
    "path = untar_data(URLs.CIFAR)\n",
    "path"
   ]
  },
  {
   "cell_type": "code",
   "execution_count": 7,
   "id": "e80a55cd-2d5f-493e-acdb-67d3c8b2b117",
   "metadata": {},
   "outputs": [],
   "source": [
    "bs = 256\n"
   ]
  },
  {
   "cell_type": "code",
   "execution_count": 8,
   "id": "54373dbe-64c3-4b08-9612-895ad7799d7f",
   "metadata": {},
   "outputs": [],
   "source": [
    "ds_tfms = ([OldRandomCrop(4, 32), FlipItem(p=0.5)], [])\n",
    "data = ImageDataLoaders.from_folder(path, valid='test', item_tfms=ds_tfms, bs=bs)\n"
   ]
  },
  {
   "cell_type": "code",
   "execution_count": 9,
   "id": "32489fdb-1784-4eec-ad96-10a5117c2477",
   "metadata": {},
   "outputs": [],
   "source": [
    "learn = Learner(data, xresnet152(pretrained=True).to(\"cpu\"), metrics=accuracy)"
   ]
  },
  {
   "cell_type": "code",
   "execution_count": 10,
   "id": "178c26ec-bbb9-4a13-92ca-3f667c2cc21e",
   "metadata": {},
   "outputs": [
    {
     "data": {
      "text/html": [
       "\n",
       "<style>\n",
       "    /* Turns off some styling */\n",
       "    progress {\n",
       "        /* gets rid of default border in Firefox and Opera. */\n",
       "        border: none;\n",
       "        /* Needs to be in here for Safari polyfill so background images work as expected. */\n",
       "        background-size: auto;\n",
       "    }\n",
       "    progress:not([value]), progress:not([value])::-webkit-progress-bar {\n",
       "        background: repeating-linear-gradient(45deg, #7e7e7e, #7e7e7e 10px, #5c5c5c 10px, #5c5c5c 20px);\n",
       "    }\n",
       "    .progress-bar-interrupted, .progress-bar-interrupted::-webkit-progress-bar {\n",
       "        background: #F44336;\n",
       "    }\n",
       "</style>\n"
      ],
      "text/plain": [
       "<IPython.core.display.HTML object>"
      ]
     },
     "metadata": {},
     "output_type": "display_data"
    },
    {
     "data": {
      "text/html": [],
      "text/plain": [
       "<IPython.core.display.HTML object>"
      ]
     },
     "metadata": {},
     "output_type": "display_data"
    },
    {
     "data": {
      "text/plain": [
       "SuggestedLRs(valley=0.0004786300996784121)"
      ]
     },
     "execution_count": 10,
     "metadata": {},
     "output_type": "execute_result"
    },
    {
     "data": {
      "image/png": "[encoded data removed]",
      "text/plain": [
       "<Figure size 640x480 with 1 Axes>"
      ]
     },
     "metadata": {},
     "output_type": "display_data"
    }
   ],
   "source": [
    "learn.lr_find()"
   ]
  },
  {
   "cell_type": "markdown",
   "id": "f3648daf-1cae-4cb8-a4f5-7efc9332280d",
   "metadata": {},
   "source": [
    "I'm happy that the first run worked--this test did not take significant effort to implement on the Mac\n",
    "with GPU activated.  The time is about half the speed (twice as slow) as on my NVidia 1080Ti.  \n",
    "\n",
    "The first test was intended to be CPU-only, to establish a baseline. However, it appears to have used the GPU. \n",
    "To double check I ran this again explicitly specifying the GPU ('mps'), and received the same results.\n",
    "\n",
    "My guess is that something about the libraries used in this test always route to the GPU.  \n",
    "I will have to review the steps I took to create this anaconda environment, and see if I can figure out how to specify\n",
    "GPU vs. CPU executions."
   ]
  },
  {
   "cell_type": "code",
   "execution_count": null,
   "id": "cf1d9c77-8ce2-46ce-b367-82176a004717",
   "metadata": {},
   "outputs": [],
   "source": [
    "%%timeit  -n 1 -r 1\n",
    "\n",
    "learn.fit_one_cycle(8, 0.000575439, wd=0.4, div=10, pct_start=0.5)"
   ]
  },
  {
   "cell_type": "code",
   "execution_count": null,
   "id": "7acc3467-d5ec-45a7-bd71-8ac9ac510447",
   "metadata": {},
   "outputs": [],
   "source": []
  },
  {
   "cell_type": "code",
   "execution_count": null,
   "id": "c06d4e76-1072-4c5f-8f00-32c309e23506",
   "metadata": {},
   "outputs": [],
   "source": []
  }
 ],
 "metadata": {
  "kernelspec": {
   "display_name": "Python 3 (ipykernel)",
   "language": "python",
   "name": "python3"
  },
  "language_info": {
   "codemirror_mode": {
    "name": "ipython",
    "version": 3
   },
   "file_extension": ".py",
   "mimetype": "text/x-python",
   "name": "python",
   "nbconvert_exporter": "python",
   "pygments_lexer": "ipython3",
   "version": "3.11.8"
  }
 },
 "nbformat": 4,
 "nbformat_minor": 5
}
