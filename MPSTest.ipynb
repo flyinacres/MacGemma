{
 "cells": [
  {
   "cell_type": "code",
   "execution_count": 5,
   "id": "5cfe85ff-060d-4e0e-8dd6-fba5e21f408a",
   "metadata": {},
   "outputs": [
    {
     "name": "stdout",
     "output_type": "stream",
     "text": [
      "tensor([1.], device='mps:0')\n"
     ]
    }
   ],
   "source": [
    "import torch\n",
    "\n",
    "if torch.backends.mps.is_available():\n",
    "    mps_device = torch.device(\"mps\")\n",
    "    x = torch.ones(1, device = mps_device)\n",
    "    print(x)\n",
    "else:\n",
    "    print(\"MPS device not found\")"
   ]
  },
  {
   "cell_type": "code",
   "execution_count": 6,
   "id": "ca5a4c49-367d-4b1c-8643-7d4254265d65",
   "metadata": {},
   "outputs": [
    {
     "data": {
      "text/plain": [
       "0.00017679110169410706"
      ]
     },
     "execution_count": 6,
     "metadata": {},
     "output_type": "execute_result"
    }
   ],
   "source": [
    "import timeit\n",
    "\n",
    "import random\n",
    "\n",
    "x = torch.ones(500000000, device='mps')\n",
    "timeit.timeit(lambda:x * random.randint(0, 100), number=1)"
   ]
  },
  {
   "cell_type": "code",
   "execution_count": 7,
   "id": "84edd018-7ed8-4df5-859b-25f56f63b300",
   "metadata": {},
   "outputs": [
    {
     "data": {
      "text/plain": [
       "0.0097809589933604"
      ]
     },
     "execution_count": 7,
     "metadata": {},
     "output_type": "execute_result"
    }
   ],
   "source": [
    "x = torch.ones(50000000, device=\"cpu\")\n",
    "timeit.timeit(lambda:x * random.randint(0,100), number = 1)"
   ]
  },
  {
   "cell_type": "markdown",
   "id": "cf7bd44a-a08c-4817-aa36-3775bde92c82",
   "metadata": {},
   "source": [
    "There definitely is a time difference, but the source I am comparing this to had 0.0003982 and 0.0112392, so overall the numbers I am seeing are off by a bit.\n"
   ]
  },
  {
   "cell_type": "code",
   "execution_count": 8,
   "id": "a281d26a-1514-4547-b1a6-7d653434e58c",
   "metadata": {},
   "outputs": [
    {
     "name": "stdout",
     "output_type": "stream",
     "text": [
      "Total time with cpu (10000): 0.0010329999999996176\n",
      "Total time with cpu (100000000): 0.5900970000000001\n",
      "Total time with gpu (10000): 0.012586000000000652\n",
      "Total time with gpu (100000000): 0.006569000000000713\n"
     ]
    }
   ],
   "source": [
    "from time import process_time\n",
    "import torch\n",
    "\n",
    "def testgpu():\n",
    "    if torch.backends.mps.is_available():\n",
    "        mps_device = torch.device(\"mps\")\n",
    "    t0 = process_time()\n",
    "    x = torch.ones(n1, device=mps_device)\n",
    "    y = x + torch.rand(n1, device=mps_device)\n",
    "    t1 = process_time()\n",
    "    print(f\"Total time with gpu ({n1}): {t1-t0}\")\n",
    "    t0 = process_time()\n",
    "    x = torch.ones(n2, device=mps_device)\n",
    "    y = x + torch.rand(n2, device=mps_device)\n",
    "    t1 = process_time()\n",
    "    print(f\"Total time with gpu ({n2}): {t1-t0}\")\n",
    "\n",
    "def testcpu():\n",
    "    t0 = process_time()\n",
    "    x = torch.ones(n1)\n",
    "    y = x + torch.rand(n1)\n",
    "    t1 = process_time()\n",
    "    print(f\"Total time with cpu ({n1}): {t1-t0}\")\n",
    "    t0 = process_time()\n",
    "    x = torch.ones(n2)\n",
    "    y = x + torch.rand(n2)\n",
    "    t1 = process_time()\n",
    "    print(f\"Total time with cpu ({n2}): {t1-t0}\")\n",
    "\n",
    "if __name__ == '__main__':\n",
    "    n1 = 10000\n",
    "    n2 = 100000000\n",
    "    testcpu()\n",
    "    testgpu()"
   ]
  }
 ],
 "metadata": {
  "kernelspec": {
   "display_name": "Python 3 (ipykernel)",
   "language": "python",
   "name": "python3"
  },
  "language_info": {
   "codemirror_mode": {
    "name": "ipython",
    "version": 3
   },
   "file_extension": ".py",
   "mimetype": "text/x-python",
   "name": "python",
   "nbconvert_exporter": "python",
   "pygments_lexer": "ipython3",
   "version": "3.11.8"
  }
 },
 "nbformat": 4,
 "nbformat_minor": 5
}
